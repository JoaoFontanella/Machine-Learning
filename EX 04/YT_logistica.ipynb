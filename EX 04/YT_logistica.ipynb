{
  "nbformat": 4,
  "nbformat_minor": 0,
  "metadata": {
    "colab": {
      "provenance": []
    },
    "kernelspec": {
      "name": "python3",
      "display_name": "Python 3"
    },
    "language_info": {
      "name": "python"
    }
  },
  "cells": [
    {
      "cell_type": "code",
      "execution_count": null,
      "metadata": {
        "id": "dpSTj5aJHoM2"
      },
      "outputs": [],
      "source": [
        "import pandas as pd\n",
        "from sklearn.model_selection import train_test_split\n",
        "from sklearn.feature_extraction.text import TfidfVectorizer\n",
        "from sklearn.preprocessing import LabelEncoder\n",
        "from sklearn.linear_model import LogisticRegression\n",
        "from sklearn.metrics import classification_report, accuracy_score\n",
        "\n",
        "df = pd.read_csv('Youtube-Spam-Dataset.csv')\n",
        "\n",
        "#Remover colunas irrelevantes\n",
        "df = df.drop(['COMMENT_ID', 'DATE', 'VIDEO_NAME'], axis=1)\n",
        "\n",
        "#Verificar valores nulos\n",
        "df.isnull().sum()\n",
        "\n",
        "#Codificar a variável AUTHOR\n",
        "label_encoder = LabelEncoder()\n",
        "df['AUTHOR'] = label_encoder.fit_transform(df['AUTHOR'])\n",
        "\n",
        "#Transformação de texto\n",
        "tfidf = TfidfVectorizer(max_features=1000)\n",
        "X_text = tfidf.fit_transform(df['CONTENT'])\n",
        "\n",
        "# Separar as features e o target\n",
        "X = X_text.toarray()\n",
        "y = df['CLASS']\n",
        "\n",
        "# Dividir o dataset em treinamento e teste\n",
        "X_train, X_test, y_train, y_test = train_test_split(X, y, test_size=0.30, random_state=42)\n",
        "\n",
        "# Treinar o modelo de regressão logística\n",
        "model = LogisticRegression(max_iter=1000)\n",
        "model.fit(X_train, y_train)\n",
        "\n",
        "# Fazer previsões\n",
        "y_pred = model.predict(X_test)\n",
        "\n",
        "# Avaliar o modelo\n",
        "print(accuracy_score(y_test, y_pred))\n",
        "print(classification_report(y_test, y_pred))\n"
      ]
    }
  ]
}