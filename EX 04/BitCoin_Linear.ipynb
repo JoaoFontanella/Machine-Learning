{
  "nbformat": 4,
  "nbformat_minor": 0,
  "metadata": {
    "colab": {
      "provenance": []
    },
    "kernelspec": {
      "name": "python3",
      "display_name": "Python 3"
    },
    "language_info": {
      "name": "python"
    }
  },
  "cells": [
    {
      "cell_type": "code",
      "execution_count": null,
      "metadata": {
        "id": "4EUpvygz7tvT"
      },
      "outputs": [],
      "source": [
        "import pandas as pd\n",
        "import numpy as np\n",
        "from sklearn.preprocessing import OrdinalEncoder\n",
        "from sklearn.model_selection import train_test_split\n",
        "from sklearn.linear_model import LinearRegression\n",
        "from sklearn.metrics import mean_absolute_error, r2_score\n",
        "\n",
        "df = pd.read_csv('bitcoin_price_Training - Training.csv')\n",
        "\n",
        "# Identificar colunas categóricas\n",
        "categorical_columns = df.select_dtypes(include=['object']).columns\n",
        "categorical_columns\n",
        "\n",
        "#Instaciando o modelo Ordinal encoder\n",
        "ordinal = OrdinalEncoder()\n",
        "\n",
        "# Aplicar o OrdinalEncoder apenas às colunas categóricas\n",
        "df[categorical_columns] = ordinal.fit_transform(df[categorical_columns])\n",
        "df.head()\n",
        "\n",
        "#features e target\n",
        "X = df.drop(['Market Cap'], axis=1)\n",
        "y = df['Market Cap']\n",
        "\n",
        "#Realizando a separação de x e y em dados de treino (70%) e teste (30%)\n",
        "X_train, X_test, y_train, y_test = train_test_split(X,y,test_size=0.30,random_state=42)\n",
        "\n",
        "#Instanciando modelo de regressão\n",
        "model_regression = LinearRegression()\n",
        "\n",
        "#Treinando o modelo de regressão\n",
        "model_regression.fit(X_train,y_train)\n",
        "\n",
        "#Realizando predições nos dados de teste.\n",
        "y_predict = model_regression.predict(X_test)\n",
        "\n",
        "#Avaliando a resposta verdadeira e o valor predito pelo modelo\n",
        "mean_absolute_error(y_test,y_predict)\n",
        "r2_score(y_test,y_predict)"
      ]
    }
  ]
}