{
  "nbformat": 4,
  "nbformat_minor": 0,
  "metadata": {
    "colab": {
      "provenance": []
    },
    "kernelspec": {
      "name": "python3",
      "display_name": "Python 3"
    },
    "language_info": {
      "name": "python"
    }
  },
  "cells": [
    {
      "cell_type": "code",
      "execution_count": 9,
      "metadata": {
        "id": "F9lghQIrm4Yv"
      },
      "outputs": [],
      "source": [
        "import pandas as pd\n",
        "from sklearn.model_selection import train_test_split\n",
        "from sklearn.feature_extraction.text import TfidfVectorizer\n",
        "from sklearn.preprocessing import LabelEncoder\n",
        "\n",
        "df = pd.read_csv('Youtube-Spam-Dataset.csv')\n",
        "\n",
        "#Removendo colunas irrelevantes\n",
        "df = df.drop(['COMMENT_ID', 'DATE', 'VIDEO_NAME'], axis=1)\n",
        "\n",
        "#Verificaando valores nullos\n",
        "df.isnull().sum()\n",
        "#Não houve valores nullos\n",
        "\n",
        "#Codificando a variável AUTHOR\n",
        "label_encoder = LabelEncoder()\n",
        "df['AUTHOR'] = label_encoder.fit_transform(df['AUTHOR'])\n",
        "\n",
        "#Transformação de texto\n",
        "tfidf = TfidfVectorizer(max_features=1000)\n",
        "X_text = tfidf.fit_transform(df['CONTENT'])\n",
        "\n",
        "#Separar as features e o target\n",
        "X = X_text.toarray()\n",
        "y = df['CLASS']\n",
        "\n",
        "#Dividir o dataset em treinamento e teste\n",
        "X_train, X_test, y_train, y_test = train_test_split(X, y, test_size=0.2, random_state=42)\n"
      ]
    }
  ]
}