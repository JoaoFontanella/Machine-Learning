{
  "nbformat": 4,
  "nbformat_minor": 0,
  "metadata": {
    "colab": {
      "provenance": []
    },
    "kernelspec": {
      "name": "python3",
      "display_name": "Python 3"
    },
    "language_info": {
      "name": "python"
    }
  },
  "cells": [
    {
      "cell_type": "code",
      "execution_count": null,
      "metadata": {
        "id": "0_Cb8lsiO786"
      },
      "outputs": [],
      "source": [
        "import numpy as np\n",
        "import pandas as pd\n",
        "from sklearn.model_selection import train_test_split\n",
        "from sklearn.neighbors import KNeighborsRegressor\n",
        "from sklearn.metrics import mean_absolute_error\n",
        "from sklearn.preprocessing import StandardScaler\n",
        "\n",
        "df = pd.read_csv('HousePrices_HalfMil.csv')\n",
        "\n",
        "#Features e o target\n",
        "X = df.drop('Prices', axis=1)\n",
        "y = df['Prices']\n",
        "\n",
        "#Tratar valores nullos\n",
        "X.fillna(X.median(), inplace=True)\n",
        "\n",
        "#Normalizar os dados numéricos\n",
        "scaler = StandardScaler()\n",
        "X_scaled = scaler.fit_transform(X)\n",
        "\n",
        "# 5. Dividir o dataset em treinamento e teste\n",
        "X_train, X_test, y_train, y_test = train_test_split(X_scaled, y, test_size=0.30, random_state=42)\n",
        "\n",
        "#Treinando o modelo KNN\n",
        "knn = KNeighborsRegressor(n_neighbors=5)\n",
        "knn.fit(X_train, y_train)\n",
        "\n",
        "#Previsões\n",
        "y_pred = knn.predict(X_test)\n",
        "\n",
        "#Erro médio absoluto\n",
        "ema = mean_absolute_error(y_test, y_pred)\n",
        "print(\"Erro Médio Absoluto:\", ema)\n",
        "\n",
        "\n",
        "#------------------------------------------------------------------------------\n",
        "#POR ALGUM MOTIVO O CODIGO DEMORA UNS 2 MINUTOS PARA SER EXECUTADO POREM ESTA OK"
      ]
    }
  ]
}